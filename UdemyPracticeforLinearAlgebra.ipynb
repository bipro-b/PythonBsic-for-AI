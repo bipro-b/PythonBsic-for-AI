{
  "nbformat": 4,
  "nbformat_minor": 0,
  "metadata": {
    "colab": {
      "provenance": []
    },
    "kernelspec": {
      "name": "python3",
      "display_name": "Python 3"
    },
    "language_info": {
      "name": "python"
    }
  },
  "cells": [
    {
      "cell_type": "code",
      "execution_count": 1,
      "metadata": {
        "colab": {
          "base_uri": "https://localhost:8080/"
        },
        "id": "qNS6Hgm7grv2",
        "outputId": "224e99d8-a550-4c0e-90d5-0a85c26c836b"
      },
      "outputs": [
        {
          "output_type": "execute_result",
          "data": {
            "text/plain": [
              "10"
            ]
          },
          "metadata": {},
          "execution_count": 1
        }
      ],
      "source": [
        "3+7\n"
      ]
    },
    {
      "cell_type": "markdown",
      "source": [
        "Variable\n",
        "**bold text**"
      ],
      "metadata": {
        "id": "FrqVmYiShkLS"
      }
    },
    {
      "cell_type": "code",
      "source": [
        "a=3\n",
        "b=5\n",
        "a+b"
      ],
      "metadata": {
        "colab": {
          "base_uri": "https://localhost:8080/"
        },
        "id": "fznwurJEhpD7",
        "outputId": "1a11ada8-e147-4c72-d2ae-2414a105a46e"
      },
      "execution_count": 2,
      "outputs": [
        {
          "output_type": "execute_result",
          "data": {
            "text/plain": [
              "8"
            ]
          },
          "metadata": {},
          "execution_count": 2
        }
      ]
    },
    {
      "cell_type": "code",
      "source": [
        "a=5.6\n",
        "a*2+7+9"
      ],
      "metadata": {
        "colab": {
          "base_uri": "https://localhost:8080/"
        },
        "id": "PbRWMFizh67i",
        "outputId": "931419d5-6ae3-41b8-c8bd-0889580d90bb"
      },
      "execution_count": 3,
      "outputs": [
        {
          "output_type": "execute_result",
          "data": {
            "text/plain": [
              "27.2"
            ]
          },
          "metadata": {},
          "execution_count": 3
        }
      ]
    },
    {
      "cell_type": "code",
      "source": [
        "print(a*b+6.7*a)"
      ],
      "metadata": {
        "colab": {
          "base_uri": "https://localhost:8080/"
        },
        "id": "gGsE2jVph-zL",
        "outputId": "0de7a493-d7f8-4381-abe3-f9662721ea4c"
      },
      "execution_count": 4,
      "outputs": [
        {
          "output_type": "stream",
          "name": "stdout",
          "text": [
            "65.52\n"
          ]
        }
      ]
    },
    {
      "cell_type": "markdown",
      "source": [
        "*NUMPY BASIC*"
      ],
      "metadata": {
        "id": "dh1fn_1NiUtU"
      }
    },
    {
      "cell_type": "code",
      "source": [
        "numlist =[1,2,3,4,4]\n",
        "numlist"
      ],
      "metadata": {
        "colab": {
          "base_uri": "https://localhost:8080/"
        },
        "id": "I6ZUoGObiFuC",
        "outputId": "268b0c89-66cc-4986-dbbe-631d3dc64605"
      },
      "execution_count": 5,
      "outputs": [
        {
          "output_type": "execute_result",
          "data": {
            "text/plain": [
              "[1, 2, 3, 4, 4]"
            ]
          },
          "metadata": {},
          "execution_count": 5
        }
      ]
    },
    {
      "cell_type": "code",
      "source": [
        "import numpy as np"
      ],
      "metadata": {
        "id": "csDnlwMqioEC"
      },
      "execution_count": 9,
      "outputs": []
    },
    {
      "cell_type": "code",
      "source": [
        "np.mean(numlist)"
      ],
      "metadata": {
        "colab": {
          "base_uri": "https://localhost:8080/"
        },
        "id": "dLhK4dyti5zT",
        "outputId": "9631f250-eb10-4480-998f-327259160600"
      },
      "execution_count": 10,
      "outputs": [
        {
          "output_type": "execute_result",
          "data": {
            "text/plain": [
              "2.8"
            ]
          },
          "metadata": {},
          "execution_count": 10
        }
      ]
    },
    {
      "cell_type": "code",
      "source": [
        "np.sqrt(8)"
      ],
      "metadata": {
        "colab": {
          "base_uri": "https://localhost:8080/"
        },
        "id": "FUbNdR7ZjPAx",
        "outputId": "cccba09a-4e09-4919-f7a5-54cc18f26f49"
      },
      "execution_count": 12,
      "outputs": [
        {
          "output_type": "execute_result",
          "data": {
            "text/plain": [
              "2.8284271247461903"
            ]
          },
          "metadata": {},
          "execution_count": 12
        }
      ]
    },
    {
      "cell_type": "code",
      "source": [
        "np.linspace(1,10,12)"
      ],
      "metadata": {
        "colab": {
          "base_uri": "https://localhost:8080/"
        },
        "id": "taQBfh2NjH3y",
        "outputId": "9964f941-4606-4798-8e24-9ae80666b458"
      },
      "execution_count": 15,
      "outputs": [
        {
          "output_type": "execute_result",
          "data": {
            "text/plain": [
              "array([ 1.        ,  1.81818182,  2.63636364,  3.45454545,  4.27272727,\n",
              "        5.09090909,  5.90909091,  6.72727273,  7.54545455,  8.36363636,\n",
              "        9.18181818, 10.        ])"
            ]
          },
          "metadata": {},
          "execution_count": 15
        }
      ]
    },
    {
      "cell_type": "markdown",
      "source": [
        "Assignment \n",
        "\n",
        "1) create a list of 15 numbers from 4 to 100 \n",
        "\n",
        "2) round those numbers to the nearest integer and store in another varable \n",
        "\n",
        "\n",
        "3)print out the square root of each number in the list"
      ],
      "metadata": {
        "id": "Kr1AjfmIkOoy"
      }
    },
    {
      "cell_type": "code",
      "source": [
        "lin = np.linspace(4,100,15)\n",
        "lin"
      ],
      "metadata": {
        "colab": {
          "base_uri": "https://localhost:8080/"
        },
        "id": "j1dl0E0Ukaeh",
        "outputId": "48cc38d4-1721-41fd-819c-6b95d775736f"
      },
      "execution_count": 17,
      "outputs": [
        {
          "output_type": "execute_result",
          "data": {
            "text/plain": [
              "array([  4.        ,  10.85714286,  17.71428571,  24.57142857,\n",
              "        31.42857143,  38.28571429,  45.14285714,  52.        ,\n",
              "        58.85714286,  65.71428571,  72.57142857,  79.42857143,\n",
              "        86.28571429,  93.14285714, 100.        ])"
            ]
          },
          "metadata": {},
          "execution_count": 17
        }
      ]
    },
    {
      "cell_type": "code",
      "source": [
        "round_nearest = np.mean(lin)\n",
        "# round_nearest\n",
        "np.round(round_nearest)"
      ],
      "metadata": {
        "colab": {
          "base_uri": "https://localhost:8080/"
        },
        "id": "8C8hSeR4k7ip",
        "outputId": "6b29e044-b0bd-496e-e168-87aa4982da8f"
      },
      "execution_count": 26,
      "outputs": [
        {
          "output_type": "execute_result",
          "data": {
            "text/plain": [
              "52.0"
            ]
          },
          "metadata": {},
          "execution_count": 26
        }
      ]
    },
    {
      "cell_type": "code",
      "source": [
        "np.sqrt(lin)"
      ],
      "metadata": {
        "colab": {
          "base_uri": "https://localhost:8080/"
        },
        "id": "1vW7vzBxl6TA",
        "outputId": "0b7dc33f-f181-47d3-d63a-ef630a716dc0"
      },
      "execution_count": 27,
      "outputs": [
        {
          "output_type": "execute_result",
          "data": {
            "text/plain": [
              "array([ 2.        ,  3.29501788,  4.20883425,  4.95695759,  5.60611911,\n",
              "        6.18754509,  6.71884344,  7.21110255,  7.6718409 ,  8.10643483,\n",
              "        8.51888658,  8.91227083,  9.2890104 ,  9.65105472, 10.        ])"
            ]
          },
          "metadata": {},
          "execution_count": 27
        }
      ]
    },
    {
      "cell_type": "markdown",
      "source": [
        "*Matplotlib*"
      ],
      "metadata": {
        "id": "aHSRKfCAmFmY"
      }
    },
    {
      "cell_type": "code",
      "source": [
        "import matplotlib.pyplot as plt"
      ],
      "metadata": {
        "id": "e4CtbpOBmL-q"
      },
      "execution_count": 28,
      "outputs": []
    },
    {
      "cell_type": "code",
      "source": [
        "import numpy as np"
      ],
      "metadata": {
        "id": "ntJP3WXKmZHp"
      },
      "execution_count": 29,
      "outputs": []
    },
    {
      "cell_type": "code",
      "source": [
        "plt.plot(1,4,'ro')  # 'ro'/ 'o'/"
      ],
      "metadata": {
        "colab": {
          "base_uri": "https://localhost:8080/",
          "height": 282
        },
        "id": "87SlhtPImmVC",
        "outputId": "6ae80a51-df44-4ffe-83eb-28ef58c1b392"
      },
      "execution_count": 35,
      "outputs": [
        {
          "output_type": "execute_result",
          "data": {
            "text/plain": [
              "[<matplotlib.lines.Line2D at 0x7fe71164f750>]"
            ]
          },
          "metadata": {},
          "execution_count": 35
        },
        {
          "output_type": "display_data",
          "data": {
            "text/plain": [
              "<Figure size 432x288 with 1 Axes>"
            ],
            "image/png": "[encoded data removed]"
          },
          "metadata": {
            "needs_background": "light"
          }
        }
      ]
    },
    {
      "cell_type": "code",
      "source": [
        "x= np.arange(-9,10)\n",
        "print(x)\n",
        "y= x**2\n",
        "plt.plot(x,y,'r')  # r is circle \n",
        "plt.plot(x,y/2,'bs') # bs is blue square"
      ],
      "metadata": {
        "colab": {
          "base_uri": "https://localhost:8080/",
          "height": 300
        },
        "id": "32d7umpDnRoT",
        "outputId": "fb6b81d0-a105-4cb2-f356-0a918a07b793"
      },
      "execution_count": 40,
      "outputs": [
        {
          "output_type": "stream",
          "name": "stdout",
          "text": [
            "[-9 -8 -7 -6 -5 -4 -3 -2 -1  0  1  2  3  4  5  6  7  8  9]\n"
          ]
        },
        {
          "output_type": "execute_result",
          "data": {
            "text/plain": [
              "[<matplotlib.lines.Line2D at 0x7fe71144c290>]"
            ]
          },
          "metadata": {},
          "execution_count": 40
        },
        {
          "output_type": "display_data",
          "data": {
            "text/plain": [
              "<Figure size 432x288 with 1 Axes>"
            ],
            "image/png": "[encoded data removed]"
          },
          "metadata": {
            "needs_background": "light"
          }
        }
      ]
    },
    {
      "cell_type": "code",
      "source": [
        "plt.plot([0,3],[-1,1],label='first line')\n",
        "plt.plot([-2,0],[-4,1],label='second line')\n",
        "plt.legend()\n"
      ],
      "metadata": {
        "colab": {
          "base_uri": "https://localhost:8080/",
          "height": 282
        },
        "id": "zFvzFRMUnReC",
        "outputId": "269d81eb-c172-4e23-dbe7-5ff20a5a4a9a"
      },
      "execution_count": 49,
      "outputs": [
        {
          "output_type": "execute_result",
          "data": {
            "text/plain": [
              "<matplotlib.legend.Legend at 0x7fe71111ee10>"
            ]
          },
          "metadata": {},
          "execution_count": 49
        },
        {
          "output_type": "display_data",
          "data": {
            "text/plain": [
              "<Figure size 432x288 with 1 Axes>"
            ],
            "image/png": "[encoded data removed]"
          },
          "metadata": {
            "needs_background": "light"
          }
        }
      ]
    },
    {
      "cell_type": "code",
      "source": [
        "M = np.random.randint(0,10,size=(4,6))\n",
        "M"
      ],
      "metadata": {
        "colab": {
          "base_uri": "https://localhost:8080/"
        },
        "id": "5LmzpFfKo5db",
        "outputId": "2e9fe859-d6b0-432f-fc53-b98b9c99f42a"
      },
      "execution_count": 54,
      "outputs": [
        {
          "output_type": "execute_result",
          "data": {
            "text/plain": [
              "array([[8, 2, 0, 6, 8, 3],\n",
              "       [3, 7, 0, 2, 6, 9],\n",
              "       [0, 0, 3, 3, 1, 5],\n",
              "       [6, 7, 9, 0, 2, 5]])"
            ]
          },
          "metadata": {},
          "execution_count": 54
        }
      ]
    },
    {
      "cell_type": "code",
      "source": [
        "plt.imshow(M)"
      ],
      "metadata": {
        "colab": {
          "base_uri": "https://localhost:8080/",
          "height": 286
        },
        "id": "Iu8mimpJppZo",
        "outputId": "c451ae1a-c026-46a2-9f68-41867c47e66d"
      },
      "execution_count": 59,
      "outputs": [
        {
          "output_type": "execute_result",
          "data": {
            "text/plain": [
              "<matplotlib.image.AxesImage at 0x7fe710e7b3d0>"
            ]
          },
          "metadata": {},
          "execution_count": 59
        },
        {
          "output_type": "display_data",
          "data": {
            "text/plain": [
              "<Figure size 432x288 with 1 Axes>"
            ],
            "image/png": "[encoded data removed]"
          },
          "metadata": {
            "needs_background": "light"
          }
        }
      ]
    },
    {
      "cell_type": "markdown",
      "source": [
        "***LINEAR ALGEBRA***"
      ],
      "metadata": {
        "id": "sOhET5tRqEwX"
      }
    },
    {
      "cell_type": "code",
      "source": [],
      "metadata": {
        "id": "EK4zEwZ0wbPw"
      },
      "execution_count": null,
      "outputs": []
    },
    {
      "cell_type": "markdown",
      "source": [
        "*Vectors and Scaler Multiplication*"
      ],
      "metadata": {
        "id": "lGgzhUXFqME4"
      }
    },
    {
      "cell_type": "code",
      "source": [
        "import matplotlib.pyplot as plt\n",
        "import numpy as np"
      ],
      "metadata": {
        "id": "aqd7OYD0qSe6"
      },
      "execution_count": 1,
      "outputs": []
    },
    {
      "cell_type": "code",
      "source": [
        "vec = np.array([3,4,5,2])\n",
        "s=2\n",
        "vec*s"
      ],
      "metadata": {
        "colab": {
          "base_uri": "https://localhost:8080/"
        },
        "id": "8M3k3akjrQyn",
        "outputId": "a21a1afe-50ea-4a55-df1d-2e98ab464c86"
      },
      "execution_count": 64,
      "outputs": [
        {
          "output_type": "execute_result",
          "data": {
            "text/plain": [
              "array([ 6,  8, 10,  4])"
            ]
          },
          "metadata": {},
          "execution_count": 64
        }
      ]
    },
    {
      "cell_type": "code",
      "source": [
        "vec2d = np.array([1,2])\n",
        "s1=2\n",
        "s2=0.5\n",
        "s3=-1\n",
        "\n",
        "#indexing\n",
        "vec2d[0]"
      ],
      "metadata": {
        "colab": {
          "base_uri": "https://localhost:8080/"
        },
        "id": "8_XpETXTrqhY",
        "outputId": "f9d56521-49e7-41a7-e8ab-e593d1f3ec2e"
      },
      "execution_count": 79,
      "outputs": [
        {
          "output_type": "execute_result",
          "data": {
            "text/plain": [
              "1"
            ]
          },
          "metadata": {},
          "execution_count": 79
        }
      ]
    },
    {
      "cell_type": "code",
      "source": [
        "plt.plot([0,vec2d[0]],[0,vec2d[1]],'bs-',label='v')\n",
        "plt.plot([0,s1*vec2d[0]],[0,s1*vec2d[1]],'ro-',label='v*s1')\n",
        "plt.plot([0,s2*vec2d[0]],[0,s2*vec2d[1]],'kp-',label='v*s2')\n",
        "plt.plot([0,s3*vec2d[0]],[0,s3*vec2d[1]],'g*-',label='v*s3')\n",
        "plt.axis('square')\n",
        "plt.xlim([-4,4])\n",
        "plt.ylim([-4,4])\n",
        "plt.grid()\n",
        "plt.legend()"
      ],
      "metadata": {
        "colab": {
          "base_uri": "https://localhost:8080/",
          "height": 286
        },
        "id": "EjH_8U1sr3Ev",
        "outputId": "66e602ca-abb0-4f1e-c11c-c8ed34cc1dd5"
      },
      "execution_count": 80,
      "outputs": [
        {
          "output_type": "execute_result",
          "data": {
            "text/plain": [
              "<matplotlib.legend.Legend at 0x7fe710ae2250>"
            ]
          },
          "metadata": {},
          "execution_count": 80
        },
        {
          "output_type": "display_data",
          "data": {
            "text/plain": [
              "<Figure size 432x288 with 1 Axes>"
            ],
            "image/png": "[encoded data removed]"
          },
          "metadata": {
            "needs_background": "light"
          }
        }
      ]
    },
    {
      "cell_type": "markdown",
      "source": [
        "Assignment!\n",
        "1. create two vercors (2D vectros)\n",
        "2. plot eact vector\n",
        "3. plot v1+v2,v1-v2,v1*4+v2/2"
      ],
      "metadata": {
        "id": "5EaKKh5bu0WA"
      }
    },
    {
      "cell_type": "markdown",
      "source": [
        "*Vector DOT Product*"
      ],
      "metadata": {
        "id": "js2vNIYtua8K"
      }
    },
    {
      "cell_type": "code",
      "source": [
        "v1 = np.array([4,5,6,2])\n",
        "v2=np.array([-4,3,0,6])\n",
        "np.dot(v1,v2)"
      ],
      "metadata": {
        "colab": {
          "base_uri": "https://localhost:8080/"
        },
        "id": "UNJZ90EGupFH",
        "outputId": "5b0d75a7-dafa-403c-b4f5-4134c9125a7b"
      },
      "execution_count": 82,
      "outputs": [
        {
          "output_type": "execute_result",
          "data": {
            "text/plain": [
              "11"
            ]
          },
          "metadata": {},
          "execution_count": 82
        }
      ]
    },
    {
      "cell_type": "code",
      "source": [
        "v3 = np.array([-4,3,1,4])\n",
        "np.dot(v2,v3)"
      ],
      "metadata": {
        "colab": {
          "base_uri": "https://localhost:8080/"
        },
        "id": "5idv67nnvqD6",
        "outputId": "562697a1-61ec-46c2-9d54-069cb12121db"
      },
      "execution_count": 84,
      "outputs": [
        {
          "output_type": "execute_result",
          "data": {
            "text/plain": [
              "49"
            ]
          },
          "metadata": {},
          "execution_count": 84
        }
      ]
    },
    {
      "cell_type": "markdown",
      "source": [
        "*Matrix*"
      ],
      "metadata": {
        "id": "o02Quh3CwdTf"
      }
    },
    {
      "cell_type": "code",
      "source": [
        "np.eye(3)"
      ],
      "metadata": {
        "colab": {
          "base_uri": "https://localhost:8080/"
        },
        "id": "show22VHv876",
        "outputId": "79301fdc-ae54-4b0f-c64f-97ec94b46eff"
      },
      "execution_count": 85,
      "outputs": [
        {
          "output_type": "execute_result",
          "data": {
            "text/plain": [
              "array([[1., 0., 0.],\n",
              "       [0., 1., 0.],\n",
              "       [0., 0., 1.]])"
            ]
          },
          "metadata": {},
          "execution_count": 85
        }
      ]
    },
    {
      "cell_type": "code",
      "source": [
        "np.zeros((3,4))"
      ],
      "metadata": {
        "colab": {
          "base_uri": "https://localhost:8080/"
        },
        "id": "qn9pqtds1V9Q",
        "outputId": "430bbffa-16fa-41a6-ca5d-d80384fd1707"
      },
      "execution_count": 86,
      "outputs": [
        {
          "output_type": "execute_result",
          "data": {
            "text/plain": [
              "array([[0., 0., 0., 0.],\n",
              "       [0., 0., 0., 0.],\n",
              "       [0., 0., 0., 0.]])"
            ]
          },
          "metadata": {},
          "execution_count": 86
        }
      ]
    },
    {
      "cell_type": "code",
      "source": [
        "np.full((5,2),7)"
      ],
      "metadata": {
        "colab": {
          "base_uri": "https://localhost:8080/"
        },
        "id": "lLVNmgfW1biu",
        "outputId": "dad02ffb-0fd7-4c98-a0fc-adc07a656689"
      },
      "execution_count": 88,
      "outputs": [
        {
          "output_type": "execute_result",
          "data": {
            "text/plain": [
              "array([[7, 7],\n",
              "       [7, 7],\n",
              "       [7, 7],\n",
              "       [7, 7],\n",
              "       [7, 7]])"
            ]
          },
          "metadata": {},
          "execution_count": 88
        }
      ]
    },
    {
      "cell_type": "code",
      "source": [
        "N = np.array([[1,2,3],[4,5,6],[7,8,9]])\n",
        "N"
      ],
      "metadata": {
        "colab": {
          "base_uri": "https://localhost:8080/"
        },
        "id": "gKpVsU211j6W",
        "outputId": "720daf67-28a1-493c-b8f9-80b641672374"
      },
      "execution_count": 89,
      "outputs": [
        {
          "output_type": "execute_result",
          "data": {
            "text/plain": [
              "array([[1, 2, 3],\n",
              "       [4, 5, 6],\n",
              "       [7, 8, 9]])"
            ]
          },
          "metadata": {},
          "execution_count": 89
        }
      ]
    },
    {
      "cell_type": "markdown",
      "source": [
        "Assignment!!\n",
        "1. create 3 matrx 2*2, 2*2,3*2\n",
        "2. compute scaler-matric multiplication \n",
        "3. add all pairs of matrices \n"
      ],
      "metadata": {
        "id": "yeQYW3Vy12g8"
      }
    },
    {
      "cell_type": "markdown",
      "source": [
        "*Transposing a vector*"
      ],
      "metadata": {
        "id": "YprWi_QZ2QWW"
      }
    },
    {
      "cell_type": "code",
      "source": [
        "v4 = np.array([2,3,-1])\n",
        "print(v4)\n",
        "print(v4.T)"
      ],
      "metadata": {
        "colab": {
          "base_uri": "https://localhost:8080/"
        },
        "id": "qNOOrIAY1x1Y",
        "outputId": "db85204c-113b-4d3a-d352-37b78ba1ccd0"
      },
      "execution_count": 93,
      "outputs": [
        {
          "output_type": "stream",
          "name": "stdout",
          "text": [
            "[ 2  3 -1]\n",
            "[ 2  3 -1]\n"
          ]
        }
      ]
    },
    {
      "cell_type": "code",
      "source": [
        "L = np.round(10*np.random.randn(3,3))\n",
        "print(L)\n",
        "print(' ')\n",
        "print(L.T)"
      ],
      "metadata": {
        "colab": {
          "base_uri": "https://localhost:8080/"
        },
        "id": "o2sLJXIpUDYj",
        "outputId": "c42d7637-df90-486f-9206-e87b4c78f4fa"
      },
      "execution_count": 3,
      "outputs": [
        {
          "output_type": "stream",
          "name": "stdout",
          "text": [
            "[[-15.   5.  -4.]\n",
            " [ 16.  -4.   0.]\n",
            " [ -4.  -7. -20.]]\n",
            " \n",
            "[[-15.  16.  -4.]\n",
            " [  5.  -4.  -7.]\n",
            " [ -4.   0. -20.]]\n"
          ]
        }
      ]
    },
    {
      "cell_type": "markdown",
      "source": [
        "Assignment\n",
        "1. what happens when we transpose twice?, Matrin Tranpose,MTT\n",
        "2. confirm that the transpose operation works on non-square "
      ],
      "metadata": {
        "id": "rBjJMTqYUhJP"
      }
    },
    {
      "cell_type": "markdown",
      "source": [
        "*Strandard matrix multiplication *"
      ],
      "metadata": {
        "id": "ODle1dtfU_LO"
      }
    },
    {
      "cell_type": "code",
      "source": [
        "m1 = np.random.randn(4,5)\n",
        "m2 = np.random.randn(4,5)\n",
        "\n",
        "print(np.matmul(m1,m2.T))\n",
        "print(' ')\n",
        "print(m1,m2.T)\n",
        "print(' ')\n",
        "print( np.matmul(m1,m2.T)-m1@m2.T)"
      ],
      "metadata": {
        "colab": {
          "base_uri": "https://localhost:8080/"
        },
        "id": "0HNkQ6niU59V",
        "outputId": "18ee8181-9393-4301-80df-abf0a195f35e"
      },
      "execution_count": 9,
      "outputs": [
        {
          "output_type": "stream",
          "name": "stdout",
          "text": [
            "[[-1.00595876  4.13119737  2.74920877  3.84043902]\n",
            " [-0.94808247  3.3129308   1.24399508  3.02100587]\n",
            " [-0.38793727  3.09524375  1.04159087  1.87327135]\n",
            " [ 1.65624756 -1.63232059 -0.65346832 -1.31742385]]\n",
            " \n",
            "[[-1.21480661 -2.06609412 -0.1121257   0.2529298   0.12842066]\n",
            " [-0.68806498 -1.27131883 -0.9838618   0.86627792  0.4060374 ]\n",
            " [-1.2963804  -0.82120241 -1.15714959  0.64450004  0.71512325]\n",
            " [-0.83659658  0.48196077  0.22442776 -1.05652809 -1.61830209]] [[-0.56555437 -0.95537425 -0.41232023  0.07088872]\n",
            " [ 0.77687314 -1.27185702 -1.10082797 -1.80470052]\n",
            " [ 0.10517893  0.20846888  0.56029686 -0.14188787]\n",
            " [-0.08168217  1.29028576 -0.06136811  0.90884857]\n",
            " [-0.43179809  0.31030133  0.40687176 -0.37307242]]\n",
            " \n",
            "[[0. 0. 0. 0.]\n",
            " [0. 0. 0. 0.]\n",
            " [0. 0. 0. 0.]\n",
            " [0. 0. 0. 0.]]\n"
          ]
        }
      ]
    },
    {
      "cell_type": "markdown",
      "source": [
        "Assignment\n",
        "1. create a 3/3 matrix of integers \n",
        "2. multiply by 1 indentify 2 zeros 3 that mtrix tranpose\n"
      ],
      "metadata": {
        "id": "m4AQCOCWXo2g"
      }
    },
    {
      "cell_type": "markdown",
      "source": [
        "*Matrix Inverse*"
      ],
      "metadata": {
        "id": "ZVVRfLj8X8D2"
      }
    },
    {
      "cell_type": "code",
      "source": [
        "A = np.random.randn(4,4)\n",
        "Ainv = np.linalg.inv(A)\n",
        "\n",
        "AinvA = A@Ainv\n",
        "\n",
        "print(A)\n",
        "print(' ')\n",
        "print(Ainv)\n",
        "print(' ')\n",
        "print(AinvA)"
      ],
      "metadata": {
        "colab": {
          "base_uri": "https://localhost:8080/"
        },
        "id": "UBAsBeKyYA71",
        "outputId": "0ee90880-36bf-41d5-90c4-629e18a16c87"
      },
      "execution_count": 12,
      "outputs": [
        {
          "output_type": "stream",
          "name": "stdout",
          "text": [
            "[[ 0.21832907 -0.02031023 -0.61885092 -1.49463485]\n",
            " [-0.27975779 -0.33232485  0.32747827 -0.69864332]\n",
            " [-0.62324644  0.79877936 -0.85667578 -0.2383074 ]\n",
            " [ 0.27147244 -0.09925392  1.44605361 -0.92878172]]\n",
            " \n",
            "[[ 0.63474098 -1.51922801 -0.58228083  0.27073569]\n",
            " [-0.04535237 -1.19339107  0.84783927  0.75313021]\n",
            " [-0.38868794  0.05622426  0.08331894  0.56182233]\n",
            " [-0.414788   -0.22898437 -0.13107592 -0.20330788]]\n",
            " \n",
            "[[ 1.00000000e+00 -3.05109122e-17  1.65048152e-17  1.42245031e-17]\n",
            " [-4.20476694e-18  1.00000000e+00 -4.40457074e-17  1.21097029e-17]\n",
            " [ 2.10688206e-18 -1.11163246e-16  1.00000000e+00 -2.04766793e-17]\n",
            " [ 1.27080222e-16 -3.73209620e-17  6.42699774e-17  1.00000000e+00]]\n"
          ]
        }
      ]
    },
    {
      "cell_type": "code",
      "source": [
        "fig, ax = plt.subplots(1,3,figsize=(6,5))\n",
        "ax[0].imshow(A)\n",
        "ax[1].imshow(Ainv)\n",
        "ax[1].set_title('A$^{-1}$')\n",
        "ax[2].imshow(AinvA)\n",
        "ax[2].set_title('A$^{-1}$A')\n",
        "plt.show()\n"
      ],
      "metadata": {
        "colab": {
          "base_uri": "https://localhost:8080/",
          "height": 166
        },
        "id": "xGn4Kq8VZVwf",
        "outputId": "e1a26d55-a397-4eed-ad2b-647b44502e6e"
      },
      "execution_count": 18,
      "outputs": [
        {
          "output_type": "display_data",
          "data": {
            "text/plain": [
              "<Figure size 432x360 with 3 Axes>"
            ],
            "image/png": "[encoded data removed]"
          },
          "metadata": {
            "needs_background": "light"
          }
        }
      ]
    },
    {
      "cell_type": "markdown",
      "source": [
        "Assigment\n",
        "1. crete a vector  3D vecotr, create a diagnonal ,matrix from that vector\n",
        "2. create a 2x3 matrix, try to compute its inverse"
      ],
      "metadata": {
        "id": "LD5ravPfa4NG"
      }
    }
  ]
}